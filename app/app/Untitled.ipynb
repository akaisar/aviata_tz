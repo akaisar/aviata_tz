{
 "cells": [
  {
   "cell_type": "code",
   "execution_count": 1,
   "metadata": {},
   "outputs": [
    {
     "name": "stdout",
     "output_type": "stream",
     "text": [
      "2020-11-23\n",
      "2020-11-24\n",
      "2020-11-25\n",
      "2020-11-26\n",
      "2020-11-27\n",
      "2020-11-28\n",
      "2020-11-29\n",
      "2020-11-30\n",
      "2020-12-01\n",
      "2020-12-02\n",
      "2020-12-03\n",
      "2020-12-04\n",
      "2020-12-05\n",
      "2020-12-06\n",
      "2020-12-07\n",
      "2020-12-08\n",
      "2020-12-09\n",
      "2020-12-10\n",
      "2020-12-11\n",
      "2020-12-12\n",
      "2020-11-13\n",
      "2020-11-14\n",
      "2020-11-15\n",
      "2020-11-16\n",
      "2020-11-17\n",
      "2020-11-18\n",
      "2020-11-19\n",
      "2020-11-20\n",
      "2020-11-21\n",
      "2020-11-22\n"
     ]
    }
   ],
   "source": [
    "from app.db.session import Session\n",
    "from app.models.ticket import Ticket\n",
    "from app.models.iata import IATA\n",
    "session = Session()\n",
    "for odsa in session.query(Ticket).all():\n",
    "    print(odsa.date_search)"
   ]
  },
  {
   "cell_type": "code",
   "execution_count": null,
   "metadata": {
    "collapsed": false,
    "jupyter": {
     "outputs_hidden": false
    },
    "pycharm": {
     "name": "#%%\n"
    }
   },
   "outputs": [],
   "source": []
  },
  {
   "cell_type": "code",
   "execution_count": null,
   "metadata": {
    "collapsed": false,
    "jupyter": {
     "outputs_hidden": false
    },
    "pycharm": {
     "name": "#%%\n"
    }
   },
   "outputs": [],
   "source": []
  },
  {
   "cell_type": "code",
   "execution_count": null,
   "metadata": {},
   "outputs": [],
   "source": []
  },
  {
   "cell_type": "code",
   "execution_count": null,
   "metadata": {},
   "outputs": [],
   "source": []
  },
  {
   "cell_type": "code",
   "execution_count": null,
   "metadata": {},
   "outputs": [],
   "source": []
  }
 ],
 "metadata": {
  "kernelspec": {
   "display_name": "Python 3",
   "language": "python",
   "name": "python3"
  },
  "language_info": {
   "codemirror_mode": {
    "name": "ipython",
    "version": 3
   },
   "file_extension": ".py",
   "mimetype": "text/x-python",
   "name": "python",
   "nbconvert_exporter": "python",
   "pygments_lexer": "ipython3",
   "version": "3.7.8"
  }
 },
 "nbformat": 4,
 "nbformat_minor": 4
}
